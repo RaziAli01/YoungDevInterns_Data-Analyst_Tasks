{
 "cells": [
  {
   "cell_type": "code",
   "execution_count": 1,
   "id": "182231e5-c8fc-470a-bd58-bb66140e4141",
   "metadata": {},
   "outputs": [],
   "source": [
    "import pandas as pd"
   ]
  },
  {
   "cell_type": "code",
   "execution_count": 2,
   "id": "8ab44cd7-ed6c-4c4b-b349-96c54332228a",
   "metadata": {},
   "outputs": [],
   "source": [
    "df = pd.read_csv('data.csv')"
   ]
  },
  {
   "cell_type": "code",
   "execution_count": 3,
   "id": "e5fdd1c8-c894-49a1-8a6a-261e2233c479",
   "metadata": {},
   "outputs": [
    {
     "name": "stdout",
     "output_type": "stream",
     "text": [
      "   Duration  Pulse  Maxpulse  Calories\n",
      "0        60    110       130     409.1\n",
      "1        60    117       145     479.0\n",
      "2        60    103       135     340.0\n",
      "3        45    109       175     282.4\n",
      "4        45    117       148     406.0\n"
     ]
    }
   ],
   "source": [
    "print(df.head())"
   ]
  },
  {
   "cell_type": "code",
   "execution_count": 4,
   "id": "3a6235dd-d82b-4bea-a857-5ef7f29e0bc9",
   "metadata": {},
   "outputs": [
    {
     "name": "stdout",
     "output_type": "stream",
     "text": [
      "<class 'pandas.core.frame.DataFrame'>\n",
      "RangeIndex: 169 entries, 0 to 168\n",
      "Data columns (total 4 columns):\n",
      " #   Column    Non-Null Count  Dtype  \n",
      "---  ------    --------------  -----  \n",
      " 0   Duration  169 non-null    int64  \n",
      " 1   Pulse     169 non-null    int64  \n",
      " 2   Maxpulse  169 non-null    int64  \n",
      " 3   Calories  164 non-null    float64\n",
      "dtypes: float64(1), int64(3)\n",
      "memory usage: 5.4 KB\n",
      "None\n"
     ]
    }
   ],
   "source": [
    "print(df.info())"
   ]
  },
  {
   "cell_type": "code",
   "execution_count": 17,
   "id": "0542baab-22d2-4bef-872e-e625c740e04b",
   "metadata": {},
   "outputs": [],
   "source": [
    "df_cleaned = df.drop_duplicates()"
   ]
  },
  {
   "cell_type": "code",
   "execution_count": 18,
   "id": "2345eaec-9633-44ff-8086-2b29cd4147d3",
   "metadata": {},
   "outputs": [
    {
     "name": "stdout",
     "output_type": "stream",
     "text": [
      "0\n"
     ]
    }
   ],
   "source": [
    "print(df_cleaned.duplicated().sum())"
   ]
  },
  {
   "cell_type": "code",
   "execution_count": 19,
   "id": "b699cfb1-3ccf-47c2-ad03-750045d6aa78",
   "metadata": {},
   "outputs": [],
   "source": [
    "import numpy as np"
   ]
  },
  {
   "cell_type": "code",
   "execution_count": 20,
   "id": "af680c64-1cdd-4764-b13c-4c401838c832",
   "metadata": {},
   "outputs": [],
   "source": [
    "mean_calories = np.mean(df_cleaned['Calories'])"
   ]
  },
  {
   "cell_type": "code",
   "execution_count": 21,
   "id": "d8928f78-d5eb-46b2-9f8a-dab855007d03",
   "metadata": {},
   "outputs": [],
   "source": [
    "median_calories = np.median(df_cleaned['Calories'])"
   ]
  },
  {
   "cell_type": "code",
   "execution_count": 22,
   "id": "210087bc-2783-46dd-9ed2-5d237b81af8f",
   "metadata": {},
   "outputs": [],
   "source": [
    "std_dev_calories = np.std(df_cleaned['Calories'])"
   ]
  },
  {
   "cell_type": "code",
   "execution_count": 23,
   "id": "b31c7e49-0a9a-4479-8a60-bd2bd4d4f474",
   "metadata": {},
   "outputs": [
    {
     "name": "stdout",
     "output_type": "stream",
     "text": [
      "379.4146496815287\n",
      "nan\n",
      "270.47689796571814\n"
     ]
    }
   ],
   "source": [
    "print(mean_calories)\n",
    "print(median_calories)\n",
    "print(std_dev_calories)"
   ]
  },
  {
   "cell_type": "code",
   "execution_count": null,
   "id": "283567f1-3db5-49f0-a187-436ec3d00af3",
   "metadata": {},
   "outputs": [],
   "source": []
  }
 ],
 "metadata": {
  "kernelspec": {
   "display_name": "Python 3 (ipykernel)",
   "language": "python",
   "name": "python3"
  },
  "language_info": {
   "codemirror_mode": {
    "name": "ipython",
    "version": 3
   },
   "file_extension": ".py",
   "mimetype": "text/x-python",
   "name": "python",
   "nbconvert_exporter": "python",
   "pygments_lexer": "ipython3",
   "version": "3.12.4"
  }
 },
 "nbformat": 4,
 "nbformat_minor": 5
}
